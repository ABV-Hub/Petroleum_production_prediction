{
 "cells": [
  {
   "cell_type": "code",
   "execution_count": 3,
   "metadata": {},
   "outputs": [],
   "source": [
    "import pandas as pd"
   ]
  },
  {
   "cell_type": "code",
   "execution_count": 4,
   "metadata": {},
   "outputs": [],
   "source": [
    "df = pd.read_csv('bhp.csv')"
   ]
  },
  {
   "cell_type": "code",
   "execution_count": 5,
   "metadata": {},
   "outputs": [
    {
     "data": {
      "text/html": [
       "<div>\n",
       "<style scoped>\n",
       "    .dataframe tbody tr th:only-of-type {\n",
       "        vertical-align: middle;\n",
       "    }\n",
       "\n",
       "    .dataframe tbody tr th {\n",
       "        vertical-align: top;\n",
       "    }\n",
       "\n",
       "    .dataframe thead th {\n",
       "        text-align: right;\n",
       "    }\n",
       "</style>\n",
       "<table border=\"1\" class=\"dataframe\">\n",
       "  <thead>\n",
       "    <tr style=\"text-align: right;\">\n",
       "      <th></th>\n",
       "      <th>ON_STREAM_HRS</th>\n",
       "      <th>AVG_DOWNHOLE_PRESSURE</th>\n",
       "      <th>AVG_CHOKE_SIZE_P</th>\n",
       "      <th>AVG_WHP_P</th>\n",
       "    </tr>\n",
       "  </thead>\n",
       "  <tbody>\n",
       "    <tr>\n",
       "      <th>ON_STREAM_HRS</th>\n",
       "      <td>1.000000</td>\n",
       "      <td>-0.054219</td>\n",
       "      <td>0.371203</td>\n",
       "      <td>-0.151073</td>\n",
       "    </tr>\n",
       "    <tr>\n",
       "      <th>AVG_DOWNHOLE_PRESSURE</th>\n",
       "      <td>-0.054219</td>\n",
       "      <td>1.000000</td>\n",
       "      <td>0.275258</td>\n",
       "      <td>-0.289612</td>\n",
       "    </tr>\n",
       "    <tr>\n",
       "      <th>AVG_CHOKE_SIZE_P</th>\n",
       "      <td>0.371203</td>\n",
       "      <td>0.275258</td>\n",
       "      <td>1.000000</td>\n",
       "      <td>-0.770398</td>\n",
       "    </tr>\n",
       "    <tr>\n",
       "      <th>AVG_WHP_P</th>\n",
       "      <td>-0.151073</td>\n",
       "      <td>-0.289612</td>\n",
       "      <td>-0.770398</td>\n",
       "      <td>1.000000</td>\n",
       "    </tr>\n",
       "  </tbody>\n",
       "</table>\n",
       "</div>"
      ],
      "text/plain": [
       "                       ON_STREAM_HRS  AVG_DOWNHOLE_PRESSURE  AVG_CHOKE_SIZE_P  \\\n",
       "ON_STREAM_HRS               1.000000              -0.054219          0.371203   \n",
       "AVG_DOWNHOLE_PRESSURE      -0.054219               1.000000          0.275258   \n",
       "AVG_CHOKE_SIZE_P            0.371203               0.275258          1.000000   \n",
       "AVG_WHP_P                  -0.151073              -0.289612         -0.770398   \n",
       "\n",
       "                       AVG_WHP_P  \n",
       "ON_STREAM_HRS          -0.151073  \n",
       "AVG_DOWNHOLE_PRESSURE  -0.289612  \n",
       "AVG_CHOKE_SIZE_P       -0.770398  \n",
       "AVG_WHP_P               1.000000  "
      ]
     },
     "execution_count": 5,
     "metadata": {},
     "output_type": "execute_result"
    }
   ],
   "source": [
    "df.corr()"
   ]
  },
  {
   "cell_type": "code",
   "execution_count": 6,
   "metadata": {},
   "outputs": [],
   "source": [
    "from scipy.stats import pearsonr as r"
   ]
  },
  {
   "cell_type": "code",
   "execution_count": 8,
   "metadata": {},
   "outputs": [
    {
     "data": {
      "text/plain": [
       "(0.27525817724567186, 1.543553956303041e-48)"
      ]
     },
     "execution_count": 8,
     "metadata": {},
     "output_type": "execute_result"
    }
   ],
   "source": [
    "r(df['AVG_DOWNHOLE_PRESSURE'], df['AVG_CHOKE_SIZE_P'])"
   ]
  },
  {
   "cell_type": "code",
   "execution_count": null,
   "metadata": {},
   "outputs": [],
   "source": []
  }
 ],
 "metadata": {
  "kernelspec": {
   "display_name": "Python 3",
   "language": "python",
   "name": "python3"
  },
  "language_info": {
   "codemirror_mode": {
    "name": "ipython",
    "version": 3
   },
   "file_extension": ".py",
   "mimetype": "text/x-python",
   "name": "python",
   "nbconvert_exporter": "python",
   "pygments_lexer": "ipython3",
   "version": "3.6.2"
  }
 },
 "nbformat": 4,
 "nbformat_minor": 2
}
