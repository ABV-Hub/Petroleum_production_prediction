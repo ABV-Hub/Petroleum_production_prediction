{
 "cells": [
  {
   "cell_type": "code",
   "execution_count": 1,
   "metadata": {},
   "outputs": [],
   "source": [
    "import pandas as pd\n",
    "import numpy as np\n",
    "import matplotlib.pyplot as plt\n",
    "%matplotlib inline"
   ]
  },
  {
   "cell_type": "code",
   "execution_count": 2,
   "metadata": {},
   "outputs": [],
   "source": [
    "df = pd.read_csv(\"F1.csv\")"
   ]
  },
  {
   "cell_type": "code",
   "execution_count": 3,
   "metadata": {},
   "outputs": [
    {
     "data": {
      "text/html": [
       "<div>\n",
       "<style scoped>\n",
       "    .dataframe tbody tr th:only-of-type {\n",
       "        vertical-align: middle;\n",
       "    }\n",
       "\n",
       "    .dataframe tbody tr th {\n",
       "        vertical-align: top;\n",
       "    }\n",
       "\n",
       "    .dataframe thead th {\n",
       "        text-align: right;\n",
       "    }\n",
       "</style>\n",
       "<table border=\"1\" class=\"dataframe\">\n",
       "  <thead>\n",
       "    <tr style=\"text-align: right;\">\n",
       "      <th></th>\n",
       "      <th>Unnamed: 0</th>\n",
       "      <th>ON_STREAM_HRS</th>\n",
       "      <th>AVG_DOWNHOLE_PRESSURE</th>\n",
       "      <th>AVG_DOWNHOLE_TEMPERATURE</th>\n",
       "      <th>AVG_DP_TUBING</th>\n",
       "      <th>AVG_CHOKE_SIZE_P</th>\n",
       "      <th>DP_CHOKE_SIZE</th>\n",
       "      <th>AVG_WHP_P</th>\n",
       "      <th>AVG_WHT_P</th>\n",
       "      <th>BORE_OIL_VOL</th>\n",
       "      <th>BORE_GAS_VOL</th>\n",
       "      <th>BORE_WAT_VOL</th>\n",
       "    </tr>\n",
       "  </thead>\n",
       "  <tbody>\n",
       "    <tr>\n",
       "      <th>0</th>\n",
       "      <td>15</td>\n",
       "      <td>24.0</td>\n",
       "      <td>289.421362</td>\n",
       "      <td>106.353209</td>\n",
       "      <td>182.059312</td>\n",
       "      <td>43.343451</td>\n",
       "      <td>78.935409</td>\n",
       "      <td>107.362050</td>\n",
       "      <td>37.939251</td>\n",
       "      <td>631.47</td>\n",
       "      <td>90439.09</td>\n",
       "      <td>10.0</td>\n",
       "    </tr>\n",
       "    <tr>\n",
       "      <th>1</th>\n",
       "      <td>16</td>\n",
       "      <td>24.0</td>\n",
       "      <td>270.239793</td>\n",
       "      <td>107.643779</td>\n",
       "      <td>171.052782</td>\n",
       "      <td>47.167523</td>\n",
       "      <td>70.627109</td>\n",
       "      <td>99.187011</td>\n",
       "      <td>60.756579</td>\n",
       "      <td>1166.46</td>\n",
       "      <td>165720.39</td>\n",
       "      <td>10.0</td>\n",
       "    </tr>\n",
       "    <tr>\n",
       "      <th>2</th>\n",
       "      <td>17</td>\n",
       "      <td>24.0</td>\n",
       "      <td>262.842748</td>\n",
       "      <td>107.869234</td>\n",
       "      <td>168.241977</td>\n",
       "      <td>47.732310</td>\n",
       "      <td>66.049151</td>\n",
       "      <td>94.600770</td>\n",
       "      <td>63.046800</td>\n",
       "      <td>1549.81</td>\n",
       "      <td>221707.31</td>\n",
       "      <td>10.0</td>\n",
       "    </tr>\n",
       "    <tr>\n",
       "      <th>3</th>\n",
       "      <td>18</td>\n",
       "      <td>24.0</td>\n",
       "      <td>255.526995</td>\n",
       "      <td>107.971137</td>\n",
       "      <td>165.538903</td>\n",
       "      <td>48.533769</td>\n",
       "      <td>61.405386</td>\n",
       "      <td>89.988092</td>\n",
       "      <td>64.547229</td>\n",
       "      <td>1248.70</td>\n",
       "      <td>178063.52</td>\n",
       "      <td>10.0</td>\n",
       "    </tr>\n",
       "    <tr>\n",
       "      <th>4</th>\n",
       "      <td>19</td>\n",
       "      <td>24.0</td>\n",
       "      <td>247.199052</td>\n",
       "      <td>108.052030</td>\n",
       "      <td>162.422242</td>\n",
       "      <td>49.844502</td>\n",
       "      <td>56.147906</td>\n",
       "      <td>84.776810</td>\n",
       "      <td>65.723694</td>\n",
       "      <td>1345.78</td>\n",
       "      <td>192602.19</td>\n",
       "      <td>10.0</td>\n",
       "    </tr>\n",
       "  </tbody>\n",
       "</table>\n",
       "</div>"
      ],
      "text/plain": [
       "   Unnamed: 0  ON_STREAM_HRS  AVG_DOWNHOLE_PRESSURE  AVG_DOWNHOLE_TEMPERATURE  \\\n",
       "0          15           24.0             289.421362                106.353209   \n",
       "1          16           24.0             270.239793                107.643779   \n",
       "2          17           24.0             262.842748                107.869234   \n",
       "3          18           24.0             255.526995                107.971137   \n",
       "4          19           24.0             247.199052                108.052030   \n",
       "\n",
       "   AVG_DP_TUBING  AVG_CHOKE_SIZE_P  DP_CHOKE_SIZE   AVG_WHP_P  AVG_WHT_P  \\\n",
       "0     182.059312         43.343451      78.935409  107.362050  37.939251   \n",
       "1     171.052782         47.167523      70.627109   99.187011  60.756579   \n",
       "2     168.241977         47.732310      66.049151   94.600770  63.046800   \n",
       "3     165.538903         48.533769      61.405386   89.988092  64.547229   \n",
       "4     162.422242         49.844502      56.147906   84.776810  65.723694   \n",
       "\n",
       "   BORE_OIL_VOL  BORE_GAS_VOL  BORE_WAT_VOL  \n",
       "0        631.47      90439.09          10.0  \n",
       "1       1166.46     165720.39          10.0  \n",
       "2       1549.81     221707.31          10.0  \n",
       "3       1248.70     178063.52          10.0  \n",
       "4       1345.78     192602.19          10.0  "
      ]
     },
     "execution_count": 3,
     "metadata": {},
     "output_type": "execute_result"
    }
   ],
   "source": [
    "df.head()"
   ]
  },
  {
   "cell_type": "code",
   "execution_count": 4,
   "metadata": {},
   "outputs": [],
   "source": [
    "df.drop(\"Unnamed: 0\",axis = 1, inplace = True)"
   ]
  },
  {
   "cell_type": "code",
   "execution_count": 5,
   "metadata": {},
   "outputs": [],
   "source": [
    "from sklearn.model_selection import train_test_split"
   ]
  },
  {
   "cell_type": "code",
   "execution_count": 6,
   "metadata": {},
   "outputs": [],
   "source": [
    "from sklearn.preprocessing import MinMaxScaler, Normalizer, MaxAbsScaler, StandardScaler\n",
    "from sklearn.model_selection import train_test_split, KFold, cross_val_score, GridSearchCV\n",
    "from sklearn.metrics import mean_squared_error, r2_score\n",
    "from sklearn.pipeline import Pipeline\n",
    "from sklearn.linear_model import LinearRegression, Ridge, LassoCV, ElasticNet, SGDRegressor, Lasso"
   ]
  },
  {
   "cell_type": "code",
   "execution_count": 7,
   "metadata": {},
   "outputs": [],
   "source": [
    "from sklearn.svm import SVR, LinearSVR\n",
    "from sklearn.kernel_ridge import KernelRidge\n",
    "from sklearn.tree import DecisionTreeRegressor\n",
    "from sklearn.neighbors import KNeighborsRegressor\n",
    "from sklearn.ensemble import RandomForestRegressor, AdaBoostRegressor, GradientBoostingRegressor, ExtraTreesRegressor\n",
    "from sklearn.neural_network import MLPRegressor"
   ]
  },
  {
   "cell_type": "code",
   "execution_count": 8,
   "metadata": {},
   "outputs": [
    {
     "data": {
      "text/html": [
       "<script type=\"text/javascript\">window.PlotlyConfig = {MathJaxConfig: 'local'};</script><script type=\"text/javascript\">if (window.MathJax) {MathJax.Hub.Config({SVG: {font: \"STIX-Web\"}});}</script><script>requirejs.config({paths: { 'plotly': ['https://cdn.plot.ly/plotly-latest.min']},});if(!window._Plotly) {require(['plotly'],function(plotly) {window._Plotly=plotly;});}</script>"
      ],
      "text/vnd.plotly.v1+html": [
       "<script type=\"text/javascript\">window.PlotlyConfig = {MathJaxConfig: 'local'};</script><script type=\"text/javascript\">if (window.MathJax) {MathJax.Hub.Config({SVG: {font: \"STIX-Web\"}});}</script><script>requirejs.config({paths: { 'plotly': ['https://cdn.plot.ly/plotly-latest.min']},});if(!window._Plotly) {require(['plotly'],function(plotly) {window._Plotly=plotly;});}</script>"
      ]
     },
     "metadata": {},
     "output_type": "display_data"
    }
   ],
   "source": [
    "import plotly.graph_objs as go\n",
    "import plotly.offline as py\n",
    "py.init_notebook_mode(connected = True)\n",
    "import plotly.io as pio"
   ]
  },
  {
   "cell_type": "code",
   "execution_count": 10,
   "metadata": {},
   "outputs": [
    {
     "data": {
      "text/html": [
       "<div>\n",
       "<style scoped>\n",
       "    .dataframe tbody tr th:only-of-type {\n",
       "        vertical-align: middle;\n",
       "    }\n",
       "\n",
       "    .dataframe tbody tr th {\n",
       "        vertical-align: top;\n",
       "    }\n",
       "\n",
       "    .dataframe thead th {\n",
       "        text-align: right;\n",
       "    }\n",
       "</style>\n",
       "<table border=\"1\" class=\"dataframe\">\n",
       "  <thead>\n",
       "    <tr style=\"text-align: right;\">\n",
       "      <th></th>\n",
       "      <th>ON_STREAM_HRS</th>\n",
       "      <th>AVG_DOWNHOLE_PRESSURE</th>\n",
       "      <th>AVG_DOWNHOLE_TEMPERATURE</th>\n",
       "      <th>AVG_DP_TUBING</th>\n",
       "      <th>AVG_CHOKE_SIZE_P</th>\n",
       "      <th>DP_CHOKE_SIZE</th>\n",
       "      <th>AVG_WHP_P</th>\n",
       "      <th>AVG_WHT_P</th>\n",
       "      <th>BORE_OIL_VOL</th>\n",
       "      <th>BORE_GAS_VOL</th>\n",
       "      <th>BORE_WAT_VOL</th>\n",
       "    </tr>\n",
       "  </thead>\n",
       "  <tbody>\n",
       "    <tr>\n",
       "      <th>0</th>\n",
       "      <td>24.0</td>\n",
       "      <td>289.421362</td>\n",
       "      <td>106.353209</td>\n",
       "      <td>182.059312</td>\n",
       "      <td>43.343451</td>\n",
       "      <td>78.935409</td>\n",
       "      <td>107.362050</td>\n",
       "      <td>37.939251</td>\n",
       "      <td>631.47</td>\n",
       "      <td>90439.09</td>\n",
       "      <td>10.0</td>\n",
       "    </tr>\n",
       "    <tr>\n",
       "      <th>1</th>\n",
       "      <td>24.0</td>\n",
       "      <td>270.239793</td>\n",
       "      <td>107.643779</td>\n",
       "      <td>171.052782</td>\n",
       "      <td>47.167523</td>\n",
       "      <td>70.627109</td>\n",
       "      <td>99.187011</td>\n",
       "      <td>60.756579</td>\n",
       "      <td>1166.46</td>\n",
       "      <td>165720.39</td>\n",
       "      <td>10.0</td>\n",
       "    </tr>\n",
       "    <tr>\n",
       "      <th>2</th>\n",
       "      <td>24.0</td>\n",
       "      <td>262.842748</td>\n",
       "      <td>107.869234</td>\n",
       "      <td>168.241977</td>\n",
       "      <td>47.732310</td>\n",
       "      <td>66.049151</td>\n",
       "      <td>94.600770</td>\n",
       "      <td>63.046800</td>\n",
       "      <td>1549.81</td>\n",
       "      <td>221707.31</td>\n",
       "      <td>10.0</td>\n",
       "    </tr>\n",
       "    <tr>\n",
       "      <th>3</th>\n",
       "      <td>24.0</td>\n",
       "      <td>255.526995</td>\n",
       "      <td>107.971137</td>\n",
       "      <td>165.538903</td>\n",
       "      <td>48.533769</td>\n",
       "      <td>61.405386</td>\n",
       "      <td>89.988092</td>\n",
       "      <td>64.547229</td>\n",
       "      <td>1248.70</td>\n",
       "      <td>178063.52</td>\n",
       "      <td>10.0</td>\n",
       "    </tr>\n",
       "    <tr>\n",
       "      <th>4</th>\n",
       "      <td>24.0</td>\n",
       "      <td>247.199052</td>\n",
       "      <td>108.052030</td>\n",
       "      <td>162.422242</td>\n",
       "      <td>49.844502</td>\n",
       "      <td>56.147906</td>\n",
       "      <td>84.776810</td>\n",
       "      <td>65.723694</td>\n",
       "      <td>1345.78</td>\n",
       "      <td>192602.19</td>\n",
       "      <td>10.0</td>\n",
       "    </tr>\n",
       "  </tbody>\n",
       "</table>\n",
       "</div>"
      ],
      "text/plain": [
       "   ON_STREAM_HRS  AVG_DOWNHOLE_PRESSURE  AVG_DOWNHOLE_TEMPERATURE  \\\n",
       "0           24.0             289.421362                106.353209   \n",
       "1           24.0             270.239793                107.643779   \n",
       "2           24.0             262.842748                107.869234   \n",
       "3           24.0             255.526995                107.971137   \n",
       "4           24.0             247.199052                108.052030   \n",
       "\n",
       "   AVG_DP_TUBING  AVG_CHOKE_SIZE_P  DP_CHOKE_SIZE   AVG_WHP_P  AVG_WHT_P  \\\n",
       "0     182.059312         43.343451      78.935409  107.362050  37.939251   \n",
       "1     171.052782         47.167523      70.627109   99.187011  60.756579   \n",
       "2     168.241977         47.732310      66.049151   94.600770  63.046800   \n",
       "3     165.538903         48.533769      61.405386   89.988092  64.547229   \n",
       "4     162.422242         49.844502      56.147906   84.776810  65.723694   \n",
       "\n",
       "   BORE_OIL_VOL  BORE_GAS_VOL  BORE_WAT_VOL  \n",
       "0        631.47      90439.09          10.0  \n",
       "1       1166.46     165720.39          10.0  \n",
       "2       1549.81     221707.31          10.0  \n",
       "3       1248.70     178063.52          10.0  \n",
       "4       1345.78     192602.19          10.0  "
      ]
     },
     "execution_count": 10,
     "metadata": {},
     "output_type": "execute_result"
    }
   ],
   "source": [
    "df.head()"
   ]
  },
  {
   "cell_type": "code",
   "execution_count": 11,
   "metadata": {},
   "outputs": [],
   "source": [
    "X = df.iloc[:,0:8]\n",
    "Y = df.iloc[:,6]"
   ]
  },
  {
   "cell_type": "code",
   "execution_count": 12,
   "metadata": {},
   "outputs": [],
   "source": [
    "test_fraction = 0.15\n",
    "val_fraction = 0.15\n",
    "x_train, x_test, y_train, y_test = train_test_split(X,Y, test_size = test_fraction, shuffle = False, random_state = 42)\n",
    "x_train, x_val, y_train, y_val = train_test_split(x_train, y_train, test_size \n",
    "                                                  = val_fraction/(1-test_fraction), shuffle = False, random_state = 1000)"
   ]
  },
  {
   "cell_type": "code",
   "execution_count": 13,
   "metadata": {},
   "outputs": [
    {
     "name": "stderr",
     "output_type": "stream",
     "text": [
      "/Library/Frameworks/Python.framework/Versions/3.6/lib/python3.6/site-packages/ipykernel_launcher.py:7: FutureWarning:\n",
      "\n",
      "reshape is deprecated and will raise in a subsequent release. Please use .values.reshape(...) instead\n",
      "\n",
      "/Library/Frameworks/Python.framework/Versions/3.6/lib/python3.6/site-packages/ipykernel_launcher.py:8: FutureWarning:\n",
      "\n",
      "reshape is deprecated and will raise in a subsequent release. Please use .values.reshape(...) instead\n",
      "\n",
      "/Library/Frameworks/Python.framework/Versions/3.6/lib/python3.6/site-packages/ipykernel_launcher.py:9: FutureWarning:\n",
      "\n",
      "reshape is deprecated and will raise in a subsequent release. Please use .values.reshape(...) instead\n",
      "\n"
     ]
    }
   ],
   "source": [
    "scaler_x = MinMaxScaler()\n",
    "x_train = scaler_x.fit_transform(x_train.as_matrix())\n",
    "x_val = scaler_x.transform(x_val.as_matrix())\n",
    "x_test = scaler_x.transform(x_test.as_matrix())\n",
    "\n",
    "scaler_y = MinMaxScaler()\n",
    "y_train = scaler_y.fit_transform(y_train.reshape(-1,1))\n",
    "y_val = scaler_y.transform(y_val.reshape(-1,1))\n",
    "y_test = scaler_y.transform(y_test.reshape(-1,1))"
   ]
  },
  {
   "cell_type": "code",
   "execution_count": 14,
   "metadata": {},
   "outputs": [],
   "source": [
    "model = Ridge()"
   ]
  },
  {
   "cell_type": "code",
   "execution_count": 15,
   "metadata": {},
   "outputs": [
    {
     "data": {
      "text/plain": [
       "Ridge(alpha=1.0, copy_X=True, fit_intercept=True, max_iter=None,\n",
       "   normalize=False, random_state=None, solver='auto', tol=0.001)"
      ]
     },
     "execution_count": 15,
     "metadata": {},
     "output_type": "execute_result"
    }
   ],
   "source": [
    "model.fit(x_train, y_train)"
   ]
  },
  {
   "cell_type": "code",
   "execution_count": 16,
   "metadata": {},
   "outputs": [
    {
     "data": {
      "text/plain": [
       "0.7359890110794992"
      ]
     },
     "execution_count": 16,
     "metadata": {},
     "output_type": "execute_result"
    }
   ],
   "source": [
    "model.score(x_val, y_val)"
   ]
  },
  {
   "cell_type": "code",
   "execution_count": 17,
   "metadata": {},
   "outputs": [
    {
     "data": {
      "text/plain": [
       "0.006157311617742023"
      ]
     },
     "execution_count": 17,
     "metadata": {},
     "output_type": "execute_result"
    }
   ],
   "source": [
    "model.score(x_test, y_test)"
   ]
  },
  {
   "cell_type": "code",
   "execution_count": null,
   "metadata": {},
   "outputs": [],
   "source": []
  }
 ],
 "metadata": {
  "kernelspec": {
   "display_name": "Python 3",
   "language": "python",
   "name": "python3"
  },
  "language_info": {
   "codemirror_mode": {
    "name": "ipython",
    "version": 3
   },
   "file_extension": ".py",
   "mimetype": "text/x-python",
   "name": "python",
   "nbconvert_exporter": "python",
   "pygments_lexer": "ipython3",
   "version": "3.6.2"
  }
 },
 "nbformat": 4,
 "nbformat_minor": 2
}
