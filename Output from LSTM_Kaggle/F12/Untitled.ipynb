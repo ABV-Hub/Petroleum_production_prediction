{
 "cells": [
  {
   "cell_type": "code",
   "execution_count": 1,
   "metadata": {},
   "outputs": [],
   "source": [
    "import pandas as pd"
   ]
  },
  {
   "cell_type": "code",
   "execution_count": 14,
   "metadata": {},
   "outputs": [],
   "source": [
    "df = pd.read_excel('F12b.xlsx')"
   ]
  },
  {
   "cell_type": "code",
   "execution_count": 15,
   "metadata": {},
   "outputs": [
    {
     "data": {
      "text/html": [
       "<div>\n",
       "<style scoped>\n",
       "    .dataframe tbody tr th:only-of-type {\n",
       "        vertical-align: middle;\n",
       "    }\n",
       "\n",
       "    .dataframe tbody tr th {\n",
       "        vertical-align: top;\n",
       "    }\n",
       "\n",
       "    .dataframe thead th {\n",
       "        text-align: right;\n",
       "    }\n",
       "</style>\n",
       "<table border=\"1\" class=\"dataframe\">\n",
       "  <thead>\n",
       "    <tr style=\"text-align: right;\">\n",
       "      <th></th>\n",
       "      <th>0</th>\n",
       "      <th>1</th>\n",
       "      <th>2</th>\n",
       "      <th>Unnamed: 3</th>\n",
       "      <th>DATEPRD</th>\n",
       "      <th>BORE_OIL_VOL</th>\n",
       "      <th>BORE_GAS_VOL</th>\n",
       "      <th>BORE_WAT_VOL</th>\n",
       "      <th>Unnamed: 8</th>\n",
       "      <th>Unnamed: 9</th>\n",
       "      <th>OIL_PRE</th>\n",
       "      <th>GAS_PRE</th>\n",
       "      <th>WAT_PRE</th>\n",
       "    </tr>\n",
       "  </thead>\n",
       "  <tbody>\n",
       "    <tr>\n",
       "      <th>0.0</th>\n",
       "      <td>2896.9385</td>\n",
       "      <td>435319.30</td>\n",
       "      <td>-31.653680</td>\n",
       "      <td>NaN</td>\n",
       "      <td>2008-02-12</td>\n",
       "      <td>284.65</td>\n",
       "      <td>38888.67</td>\n",
       "      <td>385.01</td>\n",
       "      <td>NaN</td>\n",
       "      <td>1</td>\n",
       "      <td>284.65</td>\n",
       "      <td>38888.67</td>\n",
       "      <td>385.01</td>\n",
       "    </tr>\n",
       "    <tr>\n",
       "      <th>1.0</th>\n",
       "      <td>2974.3308</td>\n",
       "      <td>454771.97</td>\n",
       "      <td>52.777245</td>\n",
       "      <td>NaN</td>\n",
       "      <td>2008-02-13</td>\n",
       "      <td>1869.70</td>\n",
       "      <td>285246.16</td>\n",
       "      <td>17.13</td>\n",
       "      <td>NaN</td>\n",
       "      <td>2</td>\n",
       "      <td>1869.70</td>\n",
       "      <td>285246.16</td>\n",
       "      <td>17.13</td>\n",
       "    </tr>\n",
       "    <tr>\n",
       "      <th>2.0</th>\n",
       "      <td>3004.7650</td>\n",
       "      <td>450750.20</td>\n",
       "      <td>-3.367147</td>\n",
       "      <td>NaN</td>\n",
       "      <td>2008-02-14</td>\n",
       "      <td>3124.09</td>\n",
       "      <td>509954.88</td>\n",
       "      <td>11.16</td>\n",
       "      <td>NaN</td>\n",
       "      <td>3</td>\n",
       "      <td>3124.09</td>\n",
       "      <td>509954.88</td>\n",
       "      <td>11.16</td>\n",
       "    </tr>\n",
       "    <tr>\n",
       "      <th>3.0</th>\n",
       "      <td>2941.9146</td>\n",
       "      <td>445609.70</td>\n",
       "      <td>0.131208</td>\n",
       "      <td>NaN</td>\n",
       "      <td>2008-02-15</td>\n",
       "      <td>2608.28</td>\n",
       "      <td>383426.67</td>\n",
       "      <td>10.97</td>\n",
       "      <td>NaN</td>\n",
       "      <td>4</td>\n",
       "      <td>2608.28</td>\n",
       "      <td>383426.67</td>\n",
       "      <td>10.97</td>\n",
       "    </tr>\n",
       "    <tr>\n",
       "      <th>4.0</th>\n",
       "      <td>2223.4739</td>\n",
       "      <td>348357.40</td>\n",
       "      <td>-23.526810</td>\n",
       "      <td>NaN</td>\n",
       "      <td>2008-02-16</td>\n",
       "      <td>3051.80</td>\n",
       "      <td>418474.00</td>\n",
       "      <td>14.89</td>\n",
       "      <td>NaN</td>\n",
       "      <td>5</td>\n",
       "      <td>3051.80</td>\n",
       "      <td>418474.00</td>\n",
       "      <td>14.89</td>\n",
       "    </tr>\n",
       "  </tbody>\n",
       "</table>\n",
       "</div>"
      ],
      "text/plain": [
       "             0          1          2  Unnamed: 3    DATEPRD  BORE_OIL_VOL  \\\n",
       "0.0  2896.9385  435319.30 -31.653680         NaN 2008-02-12        284.65   \n",
       "1.0  2974.3308  454771.97  52.777245         NaN 2008-02-13       1869.70   \n",
       "2.0  3004.7650  450750.20  -3.367147         NaN 2008-02-14       3124.09   \n",
       "3.0  2941.9146  445609.70   0.131208         NaN 2008-02-15       2608.28   \n",
       "4.0  2223.4739  348357.40 -23.526810         NaN 2008-02-16       3051.80   \n",
       "\n",
       "     BORE_GAS_VOL  BORE_WAT_VOL  Unnamed: 8  Unnamed: 9  OIL_PRE    GAS_PRE  \\\n",
       "0.0      38888.67        385.01         NaN           1   284.65   38888.67   \n",
       "1.0     285246.16         17.13         NaN           2  1869.70  285246.16   \n",
       "2.0     509954.88         11.16         NaN           3  3124.09  509954.88   \n",
       "3.0     383426.67         10.97         NaN           4  2608.28  383426.67   \n",
       "4.0     418474.00         14.89         NaN           5  3051.80  418474.00   \n",
       "\n",
       "     WAT_PRE  \n",
       "0.0   385.01  \n",
       "1.0    17.13  \n",
       "2.0    11.16  \n",
       "3.0    10.97  \n",
       "4.0    14.89  "
      ]
     },
     "execution_count": 15,
     "metadata": {},
     "output_type": "execute_result"
    }
   ],
   "source": [
    "df.head()"
   ]
  },
  {
   "cell_type": "code",
   "execution_count": 16,
   "metadata": {},
   "outputs": [],
   "source": [
    "import matplotlib.pyplot as plt\n",
    "%matplotlib inline"
   ]
  },
  {
   "cell_type": "code",
   "execution_count": 17,
   "metadata": {},
   "outputs": [
    {
     "data": {
      "text/plain": [
       "Index([             0,              1,              2,   'Unnamed: 3',\n",
       "            'DATEPRD', 'BORE_OIL_VOL', 'BORE_GAS_VOL', 'BORE_WAT_VOL',\n",
       "         'Unnamed: 8',   'Unnamed: 9',      'OIL_PRE',      'GAS_PRE',\n",
       "            'WAT_PRE'],\n",
       "      dtype='object')"
      ]
     },
     "execution_count": 17,
     "metadata": {},
     "output_type": "execute_result"
    }
   ],
   "source": [
    "df.columns"
   ]
  },
  {
   "cell_type": "code",
   "execution_count": 19,
   "metadata": {},
   "outputs": [
    {
     "data": {
      "text/plain": [
       "<matplotlib.axes._subplots.AxesSubplot at 0x11263bc88>"
      ]
     },
     "execution_count": 19,
     "metadata": {},
     "output_type": "execute_result"
    },
    {
     "data": {
      "image/png": "[encoded data removed]",
      "text/plain": [
       "<matplotlib.figure.Figure at 0x111f60240>"
      ]
     },
     "metadata": {
      "needs_background": "light"
     },
     "output_type": "display_data"
    }
   ],
   "source": [
    "df.BORE_OIL_VOL.plot()\n",
    "df.OIL_PRE.plot()"
   ]
  },
  {
   "cell_type": "code",
   "execution_count": 20,
   "metadata": {},
   "outputs": [
    {
     "data": {
      "text/plain": [
       "2832"
      ]
     },
     "execution_count": 20,
     "metadata": {},
     "output_type": "execute_result"
    }
   ],
   "source": [
    "len(df)"
   ]
  },
  {
   "cell_type": "code",
   "execution_count": null,
   "metadata": {},
   "outputs": [],
   "source": []
  }
 ],
 "metadata": {
  "kernelspec": {
   "display_name": "Python 3",
   "language": "python",
   "name": "python3"
  },
  "language_info": {
   "codemirror_mode": {
    "name": "ipython",
    "version": 3
   },
   "file_extension": ".py",
   "mimetype": "text/x-python",
   "name": "python",
   "nbconvert_exporter": "python",
   "pygments_lexer": "ipython3",
   "version": "3.6.2"
  }
 },
 "nbformat": 4,
 "nbformat_minor": 2
}
